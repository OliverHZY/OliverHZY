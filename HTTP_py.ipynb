{
  "nbformat": 4,
  "nbformat_minor": 0,
  "metadata": {
    "colab": {
      "name": "HTTP.py",
      "provenance": [],
      "collapsed_sections": [],
      "include_colab_link": true
    },
    "kernelspec": {
      "name": "python3",
      "display_name": "Python 3"
    },
    "language_info": {
      "name": "python"
    }
  },
  "cells": [
    {
      "cell_type": "markdown",
      "metadata": {
        "id": "view-in-github",
        "colab_type": "text"
      },
      "source": [
        "<a href=\"https://colab.research.google.com/github/OliverHZY/OliverHZY/blob/main/HTTP_py.ipynb\" target=\"_parent\"><img src=\"https://colab.research.google.com/assets/colab-badge.svg\" alt=\"Open In Colab\"/></a>"
      ]
    },
    {
      "cell_type": "code",
      "source": [
        "import socket\n",
        "\n",
        "mysock = socket.socket(socket.AF_INET, socket.SOCK_STREAM)\n",
        "mysock.connect(('data.pr4e.org', 80))\n",
        "cmd = 'GET http://data.pr4e.org/romeo.txt HTTP/1.0\\r\\n\\r\\n'.encode()\n",
        "mysock.send(cmd)\n",
        "\n",
        "while True:\n",
        "    data = mysock.recv(1024)\n",
        "    if len(data) < 1:\n",
        "        break\n",
        "    print(data.decode(),end = \"\")\n",
        "\n",
        "mysock.close()"
      ],
      "metadata": {
        "id": "h9RGT5UpFPNL"
      },
      "execution_count": null,
      "outputs": []
    },
    {
      "cell_type": "code",
      "source": [
        "import socket\n",
        "\n",
        "mysock = socket.socket(socket.AF_INET, socket.SOCK_STREAM)\n",
        "mysock.connect(('data.pr4e.org', 80))\n",
        "cmd = 'GET http://data.pr4e.org/intro-short.txt HTTP/1.0\\r\\n\\r\\n'.encode()\n",
        "mysock.send(cmd)\n",
        "\n",
        "while True:\n",
        "    data = mysock.recv(1024)\n",
        "    if len(data) < 1:\n",
        "        break\n",
        "    print(data.decode(),end=\"\")\n",
        "    \n",
        "mysock.close()"
      ],
      "metadata": {
        "id": "SOnJNYGQGvLq"
      },
      "execution_count": null,
      "outputs": []
    },
    {
      "cell_type": "code",
      "source": [
        "import socket\n",
        "import time \n",
        "\n",
        "Host = 'data.pr4e.org'\n",
        "Port = 80\n",
        "mysock =socket.socket(socket.AF_INET, socket.SOCK_STREAM)\n",
        "mysock.connect((Host,Port))\n",
        "mysock.sendall(b'GET http://data.pr4e.org/cover3.jpg HTTP/1.0\\r\\n\\r\\n')\n",
        "count = 0 \n",
        "picture = b\"\"\n",
        "\n",
        "while True:\n",
        "  data = mysock.recv(5120)\n",
        "  if len(data)<1: break\n",
        "  #time.sleep(0.25)\n",
        "  count = count + len(data)\n",
        "  print(len(data),count)\n",
        "  picture = picture + data \n",
        "mysock.close()\n",
        "\n",
        "#look for the end of header (2 CRLF)\n",
        "pos = picture.find(b\"\\r\\n\\r\\n\")\n",
        "print(\"Header length\", pos)\n",
        "print(picture[:pos].decode())\n",
        "\n",
        "picture =picture[pos+4:]\n",
        "fhand = open(\"stuff.jpg\",\"wb\")\n",
        "fhand.write(picture)\n",
        "fhand.close()\n"
      ],
      "metadata": {
        "id": "Vl6f2zg8camz"
      },
      "execution_count": null,
      "outputs": []
    },
    {
      "cell_type": "code",
      "source": [
        "import urllib.request, urllib.parse, urllib.error\n",
        "\n",
        "fhand = urllib.request.urlopen('http://data.pr4e.org/romeo.txt')\n",
        "\n",
        "counts = dict()\n",
        "\n",
        "for line in fhand:\n",
        "  words = line.decode().split()\n",
        "  for word in words:\n",
        "    counts[word] = counts.get(word,0) + 1\n",
        "print(counts)\n"
      ],
      "metadata": {
        "id": "N56nqLs2ro4h"
      },
      "execution_count": null,
      "outputs": []
    },
    {
      "cell_type": "code",
      "source": [
        "import urllib.request, urllib.parse, urllib.error\n",
        "\n",
        "img = urllib.request.urlopen('http://data.pr4e.org/cover3.jpg')\n",
        "fhand = open(\"cover3.jpg\",'wb')\n",
        "size = 0\n",
        "while True:\n",
        "  info = img.read(100000)\n",
        "  if len(info) <1: break\n",
        "  size = size + len(info)\n",
        "  fhand.write(info)\n",
        "\n",
        "print(size, 'characters copied')\n",
        "fhand.close()\n",
        "  "
      ],
      "metadata": {
        "colab": {
          "base_uri": "https://localhost:8080/"
        },
        "id": "VY3xIyvk8GS_",
        "outputId": "37a2e905-2a31-4b79-e80c-6546655967ef"
      },
      "execution_count": null,
      "outputs": [
        {
          "output_type": "stream",
          "name": "stdout",
          "text": [
            "230210 characters copied\n"
          ]
        }
      ]
    },
    {
      "cell_type": "code",
      "source": [
        "import urllib.request, urllib.parse, urllib.error\n",
        "from bs4 import BeautifulSoup \n",
        "import ssl \n",
        "\n",
        "# Ignore SSL certificate errors\n",
        "ctx = ssl.create_default_context()\n",
        "ctx.check_hostname = False\n",
        "ctx.verify_mode = ssl.CERT_NONE\n",
        "\n",
        "url = input('Enter -')\n",
        "html = urllib.request.urlopen(url,context = ctx).read()\n",
        "soup = BeautifulSoup(html,'html.parser')\n",
        "\n",
        "tags = soup('tag')\n",
        "for tag in tags:\n",
        "  print('TAG:',tag)\n",
        "  print('URL:', tag.get('href',None))\n",
        "  print('Contents:', tag.contents[0])\n",
        "  print('Attrs:', tag.attrs)\n",
        "\n"
      ],
      "metadata": {
        "id": "401gimgxBBMC"
      },
      "execution_count": null,
      "outputs": []
    },
    {
      "cell_type": "code",
      "source": [
        "# exercise 2 \n",
        "import urllib.request, urllib.parse, urllib.error\n",
        "from bs4 import BeautifulSoup \n",
        "import ssl \n",
        "\n",
        "# Ignore SSL certificate errors\n",
        "ctx = ssl.create_default_context()\n",
        "ctx.check_hostname = False\n",
        "ctx.verify_mode = ssl.CERT_NONE\n",
        "\n",
        "url = input('Enter -')\n",
        "html = urllib.request.urlopen(url,context = ctx).read()\n",
        "soup = BeautifulSoup(html,'html.parser')\n",
        "\n",
        "count = 0 \n",
        "sum = 0\n",
        "tags = soup('span')\n",
        "for tag in tags:\n",
        "  count += 1\n",
        "  sum = int(tag.contents[0]) + sum\n",
        "\n",
        "print(count)\n",
        "print(sum)\n",
        "  \n",
        "\n"
      ],
      "metadata": {
        "colab": {
          "base_uri": "https://localhost:8080/"
        },
        "id": "L3v8pWCc0iVi",
        "outputId": "52c29108-36d9-4161-8b9f-78ea635ffe66"
      },
      "execution_count": null,
      "outputs": [
        {
          "output_type": "stream",
          "name": "stdout",
          "text": [
            "Enter -http://py4e-data.dr-chuck.net/comments_1482885.html\n",
            "50\n",
            "2533\n"
          ]
        }
      ]
    },
    {
      "cell_type": "code",
      "source": [
        "#exercise 3\n",
        "import urllib.request, urllib.parse, urllib.error \n",
        "from bs4 import BeautifulSoup \n",
        "import ssl\n",
        "\n",
        "# Ignore SSL certificate errors\n",
        "ctx = ssl.create_default_context()\n",
        "ctx.check_hostname = False\n",
        "ctx.verify_mode = ssl.CERT_NONE\n",
        "\n",
        "count = 0\n",
        "url = input('Enter URL:')\n",
        "counts =input(\"Enter count:\")\n",
        "icounts = int(counts)\n",
        "pos = input('Enter Position:')\n",
        "ipos = int(pos)\n",
        "while count < icounts:\n",
        "  count += 1\n",
        "  html = urllib.request.urlopen(url,context = ctx).read()\n",
        "  soup = BeautifulSoup(html, 'html.parser')\n",
        "  tags = soup('a')\n",
        "  url = tags[ipos-1].get('href', None)\n",
        "  print('Retrieving:',url)"
      ],
      "metadata": {
        "colab": {
          "base_uri": "https://localhost:8080/"
        },
        "id": "b6eHnavp3mrx",
        "outputId": "f388d86c-ece9-4913-9466-bcd87a5bc4a8"
      },
      "execution_count": null,
      "outputs": [
        {
          "output_type": "stream",
          "name": "stdout",
          "text": [
            "Enter URL:http://py4e-data.dr-chuck.net/known_by_Jaskaran.html\n",
            "Enter count:7\n",
            "Enter Position:18\n",
            "Retrieving: http://py4e-data.dr-chuck.net/known_by_Palmer.html\n",
            "Retrieving: http://py4e-data.dr-chuck.net/known_by_Macaully.html\n",
            "Retrieving: http://py4e-data.dr-chuck.net/known_by_Lotta.html\n",
            "Retrieving: http://py4e-data.dr-chuck.net/known_by_Juanita.html\n",
            "Retrieving: http://py4e-data.dr-chuck.net/known_by_Shannah.html\n",
            "Retrieving: http://py4e-data.dr-chuck.net/known_by_Rob.html\n",
            "Retrieving: http://py4e-data.dr-chuck.net/known_by_Blake.html\n"
          ]
        }
      ]
    }
  ]
}